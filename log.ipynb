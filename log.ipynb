{
 "cells": [
  {
   "cell_type": "code",
   "execution_count": null,
   "id": "99051090",
   "metadata": {
    "vscode": {
     "languageId": "plaintext"
    }
   },
   "outputs": [],
   "source": [
    "\"\"\"Отчетность по дням.\"\"\""
   ]
  },
  {
   "cell_type": "markdown",
   "id": "fd03279c",
   "metadata": {},
   "source": [
    "24.08.2025\n",
    "- зарегистрировалась, где требовалось\n",
    "- посмотрела все видео\n",
    "- установила соответствующее ПО на компьютер и расширения для vs code\n",
    "- склонировала репозиторий, выполнила требуемые инструкции"
   ]
  }
 ],
 "metadata": {
  "language_info": {
   "name": "python"
  }
 },
 "nbformat": 4,
 "nbformat_minor": 5
}
